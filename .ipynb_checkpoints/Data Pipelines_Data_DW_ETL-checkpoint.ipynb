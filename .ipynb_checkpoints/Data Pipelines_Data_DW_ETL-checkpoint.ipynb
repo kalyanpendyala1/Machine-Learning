{
 "cells": [
  {
   "cell_type": "markdown",
   "metadata": {},
   "source": [
    "## Data Pipelines\n",
    "\n",
    "https://towardsdatascience.com/data-science-for-startups-introduction-80d022a18aec"
   ]
  },
  {
   "cell_type": "markdown",
   "metadata": {},
   "source": [
    "Common Data scientist role in an orginization:\n",
    "\n",
    "**For Product (Inference Scientist)**\n",
    "\n",
    "**As Product (Applied Scientist)**\n",
    "\n",
    "**For Operations (Systems Scientist)**\n",
    "\n",
    "**As Operations (ML Engineer)**\n",
    "\n",
    "\n",
    "**“For” vs “As”:** Is the data scientist supporting a team that is building something (For), or building something themselves (As)?\n",
    "\n",
    "**Product vs Operations:** Is the data scientist building something that is customer facing (Product) or a backend system that is critical to running the business (Operations)\n",
    "\n",
    "I’ve worked in many of these different functions myself: at Twitch I was embedded on the mobile product team, and had a product analytics focused role (For Product), at Windfall Data I have an applied science role focused on building customer-facing data products (As Product), and at Twitch I supervised a scientist focused on forecasting operational metrics of the platform, such as page-load times (For Operations). "
   ]
  },
  {
   "cell_type": "markdown",
   "metadata": {},
   "source": [
    "### Data Science \"For\" Product:"
   ]
  },
  {
   "cell_type": "markdown",
   "metadata": {},
   "source": [
    "One of the key responsibilities of this role is to provide insights to teams, which are then used to improve products and company roadmaps. Ex: Data Scientists at Ford Motors.\n",
    "\n",
    "Performing well in this role usually requires the following skills:\n",
    "\n",
    "**Exploratory Analysis**\n",
    "\n",
    "**Experimentation:** If the product team makes a change, how do you evaluate the impact? This can include A/B testing."
   ]
  },
  {
   "cell_type": "code",
   "execution_count": null,
   "metadata": {},
   "outputs": [],
   "source": []
  },
  {
   "cell_type": "markdown",
   "metadata": {},
   "source": [
    "### Data Science \"As\" Product"
   ]
  },
  {
   "cell_type": "markdown",
   "metadata": {},
   "source": [
    "Data science teams uses Machine learning to build data products. Data Science team continously focuses on improving this data product. Ex: Google Analytics. \n",
    "\n",
    "Data product is defined as  \"product that facilitates an end goal through the use of data\".\n",
    "\n",
    "Skills needed in this role are:\n",
    "\n",
    "**Machine Learning:**\n",
    "\n",
    "**Prototyping:** building MVPs\n",
    "\n",
    "**Software Engineering:** coding to build data products."
   ]
  },
  {
   "cell_type": "code",
   "execution_count": null,
   "metadata": {},
   "outputs": [],
   "source": []
  },
  {
   "cell_type": "markdown",
   "metadata": {},
   "source": [
    "### Data Science \"For\" operations"
   ]
  },
  {
   "cell_type": "markdown",
   "metadata": {},
   "source": [
    "The key responsibility of this position was to understand how different factors influence operational metrics of our products, such as page-load times. Need understanding of the infrastructure.\n",
    "\n",
    "**forecasting**\n",
    "\n",
    "**Alerting**"
   ]
  },
  {
   "cell_type": "code",
   "execution_count": null,
   "metadata": {},
   "outputs": [],
   "source": []
  },
  {
   "cell_type": "markdown",
   "metadata": {},
   "source": [
    "### Data Science \"As\" Operations"
   ]
  },
  {
   "cell_type": "markdown",
   "metadata": {},
   "source": [
    "This is a data science role that is usually part of an engineering team, where the goal is to build data products that are required to run the business that are not customer facing. Building automated ad bidding systems is one example of this role, and building fraud detection systems is another. \n",
    "\n",
    "**Building Distributed Systems like spark**\n",
    "\n",
    "**Online learning - Incremental Learning**\n",
    "\n",
    "**DevOps**"
   ]
  },
  {
   "cell_type": "code",
   "execution_count": null,
   "metadata": {},
   "outputs": [],
   "source": []
  },
  {
   "cell_type": "code",
   "execution_count": null,
   "metadata": {},
   "outputs": [],
   "source": []
  },
  {
   "cell_type": "markdown",
   "metadata": {},
   "source": [
    "## Tracking Data"
   ]
  },
  {
   "cell_type": "markdown",
   "metadata": {},
   "source": [
    "In order to make data-driven decisions at a startup, you need to collect data about how your products are being used. Usually data is generated directly by the product. For example, a mobile game can generate data points about launching the game, starting additional sessions, and leveling up."
   ]
  },
  {
   "cell_type": "markdown",
   "metadata": {},
   "source": [
    "#### Why record data?"
   ]
  },
  {
   "cell_type": "markdown",
   "metadata": {},
   "source": [
    "*To track health of the Application*\n",
    "\n",
    "*Enable experimentation: To determine if making changes to a product is beneficial, you need to be able to measure results.*\n",
    "\n",
    "*Build data products: In order to make something like a recommendation system, you need to know which items users are interacting with.*"
   ]
  },
  {
   "cell_type": "markdown",
   "metadata": {},
   "source": [
    "Data collected from data products frequently is called **Tracking**\n",
    "\n",
    "#### What to record?\n",
    "\n",
    "**Installs**: How big is the user base? usually you will get the data from the Google Play\n",
    "\n",
    "**Sessions**: How engaged is the user base? get data from client application\n",
    "\n",
    "*DAU: Daily active users*\n",
    "\n",
    "*MAU: Monthly Active Users*\n",
    "\n",
    "*Avg no. of Sessions per DAU*\n",
    "\n",
    "*DAU/MAU*: ratio of daily app users to monthly app users tells you how well app retains users. ranges from 0-1. Fb is 50%.\n",
    "\n",
    "*retentions*\n",
    "\n",
    "*Churns:* opposite to rentention. How many people downloaded your app and not playing.\n",
    "\n",
    "\n",
    "**Monetization**: How much are users spending?\n",
    "\n",
    "*ARPDAU:* Average Revenue Per Daily Active User\n",
    "\n",
    "*Conversion Rate*\n",
    "\n",
    "*Player Rank, player goals, player time, player ID, etc*\n",
    "\n",
    "**Tracking Specs**\n",
    "\n",
    "web browser name, version, userID, landing page, refering page, URL, client time stamp etc.,"
   ]
  },
  {
   "cell_type": "code",
   "execution_count": null,
   "metadata": {},
   "outputs": [],
   "source": []
  },
  {
   "cell_type": "markdown",
   "metadata": {},
   "source": [
    "### Client vs Server Tracking"
   ]
  },
  {
   "cell_type": "markdown",
   "metadata": {},
   "source": [
    "Collecting data directly from user's browser is called Client Tracking. Whereas collecting data from backend server is called Server Tracking. Server tracking is best and safe, because if you collect data directly from client, you will need to expose end-point in the web which is not safe and you may not get enough data because client may use adblockers in browsers.\n",
    "\n",
    "Generating Trackers from servers rather than client applications helps to avoid issues around, fraud, security & versioning."
   ]
  },
  {
   "cell_type": "code",
   "execution_count": null,
   "metadata": {},
   "outputs": [],
   "source": []
  },
  {
   "cell_type": "markdown",
   "metadata": {},
   "source": [
    "## Different ways of Sending events to end-point"
   ]
  },
  {
   "cell_type": "markdown",
   "metadata": {},
   "source": [
    "### 1.Web Call"
   ]
  },
  {
   "cell_type": "markdown",
   "metadata": {},
   "source": [
    "The easiest way to set up tracking by making web-calls with the event data to a website. Implemented with lightweight PHP script. Dont scale and Not secure."
   ]
  },
  {
   "cell_type": "markdown",
   "metadata": {},
   "source": [
    "### 2.Web Server"
   ]
  },
  {
   "cell_type": "markdown",
   "metadata": {},
   "source": [
    "Set up web service to collect tracking events. Ex: Jetty webservice to collect data. Can scale but insecure. Now a days comapanies using Kafka, Amazon Kenesis, Google PubSub to build stream processing systems."
   ]
  },
  {
   "cell_type": "markdown",
   "metadata": {},
   "source": [
    "### 3.Subscription Services"
   ]
  },
  {
   "cell_type": "markdown",
   "metadata": {},
   "source": [
    "using messaging services such as PubSub enables you to collect massive tracking data and forward data to number of consumers.\n",
    "\n",
    "Some systems such as Kafka require settingup and maintaining services while other approches such as PubSub are managed services that are serverless.\n",
    "\n",
    "Managed services are great for startups, because they reduce the amount of support needed but costly."
   ]
  },
  {
   "cell_type": "markdown",
   "metadata": {},
   "source": [
    "### 4.Message Encoding"
   ]
  },
  {
   "cell_type": "markdown",
   "metadata": {},
   "source": [
    "Scalable & Secure.\n",
    "\n",
    "Good to avoid language specifit encoding such as Java serialization. because applications and backend servers are implemented in different languages. \n",
    "\n",
    "Common ways of encoding tracking events are  *JSON format and Google's protocol Buffers*.\n",
    "\n",
    "Benefit of using these approches is Schema does not need to be defined before you send events, since meta data about the event is included in the message."
   ]
  },
  {
   "cell_type": "code",
   "execution_count": null,
   "metadata": {},
   "outputs": [],
   "source": []
  },
  {
   "cell_type": "code",
   "execution_count": null,
   "metadata": {},
   "outputs": [],
   "source": []
  },
  {
   "cell_type": "markdown",
   "metadata": {},
   "source": [
    "## Building Tracking API"
   ]
  },
  {
   "cell_type": "markdown",
   "metadata": {},
   "source": [
    "A production system should handle following issues:\n",
    "\n",
    "**Delivery Failures:** If a message delivery fails, the system should retry sending the message and have backup mechanism.\n",
    "\n",
    "**Queing** If the end-point is not available tracking library should store events for later transmission.\n",
    "\n",
    "**Batching:** Instead of sending a large number of small requests, its often useful to send batches of tracking events.\n",
    "\n",
    "**Prioritization:** A tracking library should prioritize critical events."
   ]
  },
  {
   "cell_type": "code",
   "execution_count": null,
   "metadata": {},
   "outputs": [],
   "source": []
  },
  {
   "cell_type": "code",
   "execution_count": null,
   "metadata": {},
   "outputs": [],
   "source": []
  },
  {
   "cell_type": "markdown",
   "metadata": {},
   "source": [
    "## Data Pipelines"
   ]
  },
  {
   "cell_type": "markdown",
   "metadata": {},
   "source": [
    "Core component.\n",
    "\n",
    "Typically destination for a data pipeline is datalake, such as hadoop or paraquet files on S3 or relational database such as redshift."
   ]
  },
  {
   "cell_type": "markdown",
   "metadata": {},
   "source": [
    "#### Data Lake:\n",
    "\n",
    "Stores vast amount of raw data.\n",
    "\n",
    "While data warehouse stores data in files and folders, data lakes use flat architecture to store data.\n",
    "\n",
    "Each data element in data lake is assigned with unique identifier and tagged with extended meta tags.\n",
    "\n",
    "A data lake holds data in unstructured way and there is no hierarchy in organization among individual pieces of data.\n",
    "\n",
    "It holds the data in rawest form - It is not processed or analyzed. Aditionally data lakes accepts and retains data from all data sources all data types and schemas are applied only when data is ready to be used."
   ]
  },
  {
   "cell_type": "code",
   "execution_count": null,
   "metadata": {},
   "outputs": [],
   "source": []
  },
  {
   "cell_type": "markdown",
   "metadata": {},
   "source": [
    "#### Data Warehouse:\n",
    "\n",
    "Stores data in organized manner.\n",
    "\n",
    "Databases focuses on (OLTP) transactions but data warehouse focuses on Data analysis. Many types of business data are analyzed via datawarehouse.\n",
    "\n",
    "Data warehousing is technique for collecting data from various data sources. \n",
    "\n",
    "Data warehouse is maintained separately from operational database. DataWarehouse is heart of BI used for reporting and analysis.\n",
    "\n",
    "DataWarehouse is central repository where data arrives from one or more data sources\n",
    ".\n",
    "data flows into Data warehouse from transactional system are structured data, semi-structured data, unstructured data.\n",
    "\n",
    "Data is processed, transformed and ingested so that users can access the processed data in Data warehouse through BI tools.\n",
    "\n",
    "Data warehouse merges information coming from different data sources into comprehensive database. helps for data mining (finding patterns in data)."
   ]
  },
  {
   "cell_type": "markdown",
   "metadata": {},
   "source": [
    "#### Types of Datawarehouses\n",
    "\n",
    "Enterprise DW,  Operational DW, Data Mart\n",
    "\n",
    "**Components of DW**\n",
    "\n",
    "Load manager, Warehouse Manager, Query Manager, End-user access tools."
   ]
  },
  {
   "cell_type": "code",
   "execution_count": null,
   "metadata": {},
   "outputs": [],
   "source": []
  },
  {
   "cell_type": "markdown",
   "metadata": {},
   "source": [
    "### Properties of Ideal Pipeline"
   ]
  },
  {
   "cell_type": "markdown",
   "metadata": {},
   "source": [
    "low event Latency\n",
    "\n",
    "Scalability\n",
    "\n",
    "Interactive Querying\n",
    "\n",
    "Versioning"
   ]
  },
  {
   "cell_type": "code",
   "execution_count": null,
   "metadata": {},
   "outputs": [],
   "source": []
  },
  {
   "cell_type": "code",
   "execution_count": null,
   "metadata": {},
   "outputs": [],
   "source": []
  },
  {
   "cell_type": "markdown",
   "metadata": {},
   "source": [
    "## Types of Data"
   ]
  },
  {
   "cell_type": "markdown",
   "metadata": {},
   "source": [
    "**Raw Data:** Tracking data with no processing applied. This data is stored in the message encoded format used to send tracking events such as JSON. \n",
    "\n",
    "Raw data does not have any schema applied. All data that tracked is send to end-point as raw data and schema is applied on raw data later.\n",
    "\n",
    "**Processed Data** Processed data is raw data that has been decoded into event specific formats with schema applied.\n",
    "\n",
    "**Cooked Data**: Processed data that has been aggregated or summerized. Data scientists usuall work with processed data and use tools to create cooked data."
   ]
  },
  {
   "cell_type": "code",
   "execution_count": null,
   "metadata": {},
   "outputs": [],
   "source": []
  },
  {
   "cell_type": "code",
   "execution_count": null,
   "metadata": {},
   "outputs": [],
   "source": []
  },
  {
   "cell_type": "markdown",
   "metadata": {},
   "source": [
    "## ETL"
   ]
  },
  {
   "attachments": {
    "image.png": {
     "image/png": "[encoded data removed]"
    }
   },
   "cell_type": "markdown",
   "metadata": {},
   "source": [
    "The process of Extracting data from different RDBMS sources then transform the data (Applying calculation, concatenation etc) and finally load the data into DW.\n",
    "\n",
    "![image.png](attachment:image.png)"
   ]
  },
  {
   "cell_type": "markdown",
   "metadata": {},
   "source": [
    "#### Extraction\n",
    "The process of extracting data from source to staging area. Transformations are done in the staging area.\n",
    "\n",
    "Data Extraction processes: \n",
    "\n",
    "1.Full extraction\n",
    "\n",
    "2.Partial extraction - with notification\n",
    "\n",
    "3.Partial extraction - without notification\n",
    "\n",
    "Irrespective of the method used, extraction should not affect the source system. Because source systems are in live production."
   ]
  },
  {
   "cell_type": "markdown",
   "metadata": {},
   "source": [
    "#### Validation during extraction:\n",
    "\n",
    "Reconcile with source data\n",
    "\n",
    "No spam\n",
    "\n",
    "Data type checked\n",
    "\n",
    "Remove duplicates"
   ]
  },
  {
   "cell_type": "markdown",
   "metadata": {},
   "source": [
    "#### Transformation\n",
    "Raw data extracted needs to be cleansed, mapped and transformed.\n",
    "\n",
    "**Validations during Transformation**\n",
    "\n",
    "Filtering - selecting only required columns\n",
    "\n",
    "Character set conversion\n",
    "\n",
    "Data threshold validation (age should not be more than 150)\n",
    "\n",
    "conversion of units of measurements\n",
    "\n",
    "map null to 0\n",
    "\n",
    "splitting and merging columns."
   ]
  },
  {
   "cell_type": "code",
   "execution_count": null,
   "metadata": {},
   "outputs": [],
   "source": []
  }
 ],
 "metadata": {
  "kernelspec": {
   "display_name": "Python 3",
   "language": "python",
   "name": "python3"
  },
  "language_info": {
   "codemirror_mode": {
    "name": "ipython",
    "version": 3
   },
   "file_extension": ".py",
   "mimetype": "text/x-python",
   "name": "python",
   "nbconvert_exporter": "python",
   "pygments_lexer": "ipython3",
   "version": "3.7.2"
  }
 },
 "nbformat": 4,
 "nbformat_minor": 2
}
