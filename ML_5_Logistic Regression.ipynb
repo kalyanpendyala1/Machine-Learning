{
 "cells": [
  {
   "cell_type": "markdown",
   "metadata": {},
   "source": [
    "# Logistic Regression"
   ]
  },
  {
   "cell_type": "markdown",
   "metadata": {},
   "source": [
    "Logistic Regression predicts something True or False instead of predicting something continuous like size. Logistic Regression is used for classification instead of regression.\n",
    "\n",
    "Instead of fitting line to data, logistic regression fits 'S' logistic function or Sigmoid function to the data.\n",
    "\n",
    "Curve goes from 0 to 1. That means curve tells probability between 0 and 1.\n",
    "\n",
    "If the estimated probability is greater than 50% then the model predicts that the instance belongs to positive class or else it predict instance belongs to negative class."
   ]
  },
  {
   "cell_type": "markdown",
   "metadata": {},
   "source": [
    "One main difference between logistic regression and linear regression is how the line is fit to the data. With linear regression we fit line using '**least squares method**'. In other words we find the line that minimizes the Sum of Squared Residuals (SSE). We also use residuals to calculate R-square and to compare simpler models with complicated models.\n",
    "\n",
    "Logistic regrssion doesnt have same concept so it doesnt use least squares or R-square. Instead it uses something called **maximum-likelihood**."
   ]
  },
  {
   "cell_type": "code",
   "execution_count": null,
   "metadata": {},
   "outputs": [],
   "source": []
  }
 ],
 "metadata": {
  "kernelspec": {
   "display_name": "Python 3",
   "language": "python",
   "name": "python3"
  },
  "language_info": {
   "codemirror_mode": {
    "name": "ipython",
    "version": 3
   },
   "file_extension": ".py",
   "mimetype": "text/x-python",
   "name": "python",
   "nbconvert_exporter": "python",
   "pygments_lexer": "ipython3",
   "version": "3.7.2"
  }
 },
 "nbformat": 4,
 "nbformat_minor": 2
}
